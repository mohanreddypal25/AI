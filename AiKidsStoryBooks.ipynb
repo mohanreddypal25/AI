import os
import re
import time
import textwrap
from datetime import datetime
from groq import Groq
from PIL import Image
from reportlab.lib.pagesizes import letter
from reportlab.pdfgen import canvas
from huggingface_hub import InferenceClient

# Set up API Keys
GROQ_API_KEY = "groq_apu_key"  # Replace with your Groq API Key
HF_API_KEY = "hugging_face_api_key"  # Replace with your Hugging Face API Key

# Create Story Directory
story_directory = "./story_output"
os.makedirs(story_directory, exist_ok=True)

# Initialize Hugging Face Inference Client
hf_client = InferenceClient(api_key=HF_API_KEY)

# Unique Story Prompts
story_prompts = [
    "A shy dragon discovers its magical voice.",
    "A young inventor builds a robot friend.",
    "A tiny turtle dreams of flying in the sky.",
    "A lost star finds its way back home.",
    "A curious kitten explores a secret garden.",
    "A friendly ghost helps a little girl overcome fears.",
    "A brave little fish swims against the tide.",
    "A young astronaut discovers a planet of talking animals.",
    "A magical library book brings its stories to life.",
    "A young chef enters a cooking contest with a special recipe."
]

def generate_story_page(title: str) -> str:
    """Generates a children's story using Groq's DeepSeek-R1-Distill-Llama-70B model."""
    client = Groq(api_key=GROQ_API_KEY)
    
    prompt = f"Write a short engaging children's story titled '{title}'. Keep it within 100 words, using simple language for kids aged 6-9."
    
    chat_completion = client.chat.completions.create(
        messages=[{"role": "user", "content": prompt}],
        model="deepseek-r1-distill-llama-70b",
        stream=False,
    )
    
    story_text = chat_completion.choices[0].message.content.strip()
    return re.sub(r'<think>.*?</think>', '', story_text, flags=re.DOTALL).strip()

def generate_image(prompt, filename):
    """Generate an image using Hugging Face API."""
    print(f"Generating image: {prompt}")

    response = hf_client.text_to_image(
        prompt,
        model="Nishitbaria/Anime-style-flux-lora-Large"
    )

    image_path = f"{story_directory}/{filename}.png"
    response.save(image_path)
    return image_path

def create_pdf(title, story_pages, image_paths, cover_image_path):
    """Creates a PDF with a cover page and story content."""
    timestamp = int(time.time())
    pdf_path = f"{story_directory}/story_{timestamp}.pdf"
    c = canvas.Canvas(pdf_path, pagesize=letter)

    # Add Cover Page
    cover_img = Image.open(cover_image_path)
    cover_img = cover_img.resize((600, 780))
    cover_img.save("temp_cover.jpg")
    c.drawImage("temp_cover.jpg", 0, 0, width=600, height=780)
    c.showPage()

    # Add Story Pages
    for i, (page_title, text) in enumerate(story_pages):
        c.setFont("Helvetica-Bold", 14)
        c.drawString(50, 740, page_title)

        c.setFont("Helvetica", 12)
        y_position = 720
        line_height = 16

        wrapped_text = textwrap.wrap(text, width=95)
        for line in wrapped_text:
            c.drawString(50, y_position, line)
            y_position -= line_height
            if y_position < 200:
                c.showPage()
                y_position = 720

        # Add Image
        img = Image.open(image_paths[i])
        img.thumbnail((400, 300))
        temp_image_path = f"temp_image_{i}.jpg"
        img.save(temp_image_path)
        c.drawImage(temp_image_path, 100, y_position - 350, width=400, height=300)
        c.showPage()

    c.save()
    return pdf_path

# Main Workflow
title = "Magical Short Stories"
num_pages = 5  # Generates 5 unique stories

# Generate cover image
cover_prompt = f"Cover page for '{title}'. A magical, dreamy landscape with children and friendly animals, vibrant colors, and an inviting adventure scene."
cover_image_path = generate_image(cover_prompt, "cover_page")

# Generate unique stories
story_pages = []
used_prompts = set()
for _ in range(num_pages):
    unique_prompt = None
    while not unique_prompt or unique_prompt in used_prompts:
        unique_prompt = story_prompts.pop(0)  # Ensures we don't repeat prompts
    used_prompts.add(unique_prompt)
    
    story_text = generate_story_page(unique_prompt)
    story_pages.append((unique_prompt, story_text))

# Generate images for each story page
image_paths = [generate_image(title, f"page_{i+1}") for i, (title, _) in enumerate(story_pages)]

# Create PDF
pdf_file = create_pdf(title, story_pages, image_paths, cover_image_path)

print(f"Story PDF created: {pdf_file}")
